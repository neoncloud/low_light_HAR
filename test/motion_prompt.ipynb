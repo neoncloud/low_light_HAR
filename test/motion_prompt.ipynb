{
 "cells": [
  {
   "cell_type": "code",
   "execution_count": 1,
   "metadata": {},
   "outputs": [],
   "source": [
    "import torch\n",
    "import os,sys\n",
    "parent_dir = os.path.abspath('../')\n",
    "if parent_dir not in sys.path:\n",
    "    sys.path.append(parent_dir)\n",
    "from model.motion_prompt import MotionPrompt"
   ]
  },
  {
   "cell_type": "code",
   "execution_count": null,
   "metadata": {},
   "outputs": [],
   "source": [
    "from torchvision.io import read_video\n",
    "frames, _, info  = read_video('./Run_1_1.mp4')\n",
    "print('frames',frames.shape)"
   ]
  },
  {
   "cell_type": "code",
   "execution_count": null,
   "metadata": {},
   "outputs": [],
   "source": [
    "from util.dark_enhance import DarkEnhance\n",
    "from torch.nn.functional import interpolate\n",
    "enhancer = DarkEnhance()\n",
    "frames = enhancer(frames).transpose(3,1).unsqueeze(0)\n",
    "print(frames.shape)\n",
    "frames = interpolate(frames,size=(3,224,224))\n",
    "print(frames.shape)\n"
   ]
  },
  {
   "cell_type": "code",
   "execution_count": 2,
   "metadata": {},
   "outputs": [],
   "source": [
    "motion = MotionPrompt(input_resolution=224,patch_size=16,width=32,layers=3,heads=8,output_dim=128)"
   ]
  },
  {
   "cell_type": "code",
   "execution_count": 4,
   "metadata": {},
   "outputs": [
    {
     "name": "stdout",
     "output_type": "stream",
     "text": [
      "torch.Size([197, 32, 32])\n",
      "torch.Size([32, 128])\n"
     ]
    }
   ],
   "source": [
    "feat = [torch.rand(197, 32, 32)]*3\n",
    "frames = torch.rand(32,4,224,224)\n",
    "out = motion(frames,feat)\n",
    "print(out.shape)"
   ]
  },
  {
   "cell_type": "code",
   "execution_count": null,
   "metadata": {},
   "outputs": [],
   "source": []
  }
 ],
 "metadata": {
  "kernelspec": {
   "display_name": "Python 3.9.12 ('pytorch')",
   "language": "python",
   "name": "python3"
  },
  "language_info": {
   "codemirror_mode": {
    "name": "ipython",
    "version": 3
   },
   "file_extension": ".py",
   "mimetype": "text/x-python",
   "name": "python",
   "nbconvert_exporter": "python",
   "pygments_lexer": "ipython3",
   "version": "3.9.12"
  },
  "orig_nbformat": 4,
  "vscode": {
   "interpreter": {
    "hash": "b00873fea601b69fcf5d3add94a63c6af5238bf69cc8eee1c7de23e514528387"
   }
  }
 },
 "nbformat": 4,
 "nbformat_minor": 2
}
