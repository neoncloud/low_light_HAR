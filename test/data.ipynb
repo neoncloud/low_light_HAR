{
 "cells": [
  {
   "cell_type": "code",
   "execution_count": 1,
   "metadata": {},
   "outputs": [],
   "source": [
    "import os,sys\n",
    "parent_dir = os.path.abspath('../')\n",
    "if parent_dir not in sys.path:\n",
    "    sys.path.append(parent_dir)\n",
    "from data.dataset import VideoDataset"
   ]
  },
  {
   "cell_type": "code",
   "execution_count": 2,
   "metadata": {},
   "outputs": [],
   "source": [
    "data = VideoDataset(n_frames=32, n_classes=10, frame_size=224, video_label_path='/home/neoncloud/low_light_video/mapping_table.txt', video_list_path='/home/neoncloud/low_light_video/train_.txt')"
   ]
  },
  {
   "cell_type": "code",
   "execution_count": 3,
   "metadata": {},
   "outputs": [],
   "source": [
    "d = data[514]"
   ]
  },
  {
   "cell_type": "code",
   "execution_count": 4,
   "metadata": {},
   "outputs": [
    {
     "name": "stdout",
     "output_type": "stream",
     "text": [
      "tensor(6)\n",
      "torch.Size([32, 3, 224, 224])\n"
     ]
    }
   ],
   "source": [
    "print(d['label'])\n",
    "print(d['frames'].shape)"
   ]
  },
  {
   "cell_type": "code",
   "execution_count": 5,
   "metadata": {},
   "outputs": [
    {
     "name": "stdout",
     "output_type": "stream",
     "text": [
      "['Drink', 'Jump', 'Pick', 'Pour', 'Push', 'Run', 'Sit', 'Stand', 'Turn', 'Walk']\n"
     ]
    }
   ],
   "source": [
    "name_list = data.name_list\n",
    "print(name_list)"
   ]
  },
  {
   "cell_type": "code",
   "execution_count": 6,
   "metadata": {},
   "outputs": [],
   "source": [
    "from model.text_prompt import text_prompt\n",
    "text_mat = text_prompt(name_list)"
   ]
  },
  {
   "cell_type": "code",
   "execution_count": 7,
   "metadata": {},
   "outputs": [
    {
     "name": "stdout",
     "output_type": "stream",
     "text": [
      "torch.Size([16, 10, 77])\n",
      "16\n"
     ]
    }
   ],
   "source": [
    "print(text_mat[1].shape)\n",
    "print(text_mat[0])"
   ]
  },
  {
   "cell_type": "code",
   "execution_count": 15,
   "metadata": {},
   "outputs": [
    {
     "name": "stdout",
     "output_type": "stream",
     "text": [
      "tensor([ 5,  0,  0,  0,  5,  3, 12, 11,  3, 15, 15,  8,  7,  8,  1, 10,  8,  0,\n",
      "         5,  4, 15, 10, 11,  6])\n"
     ]
    }
   ],
   "source": [
    "import torch\n",
    "label = torch.randint(high=10,size=(24,))\n",
    "text_id = torch.randint(high=16,size=(24,))\n",
    "print(text_id)"
   ]
  },
  {
   "cell_type": "code",
   "execution_count": 17,
   "metadata": {},
   "outputs": [
    {
     "name": "stdout",
     "output_type": "stream",
     "text": [
      "torch.Size([24, 77])\n"
     ]
    }
   ],
   "source": [
    "token = text_mat[1][text_id,label,:]\n",
    "print(token.shape)"
   ]
  }
 ],
 "metadata": {
  "kernelspec": {
   "display_name": "Python 3.9.12 ('pytorch')",
   "language": "python",
   "name": "python3"
  },
  "language_info": {
   "codemirror_mode": {
    "name": "ipython",
    "version": 3
   },
   "file_extension": ".py",
   "mimetype": "text/x-python",
   "name": "python",
   "nbconvert_exporter": "python",
   "pygments_lexer": "ipython3",
   "version": "3.9.12"
  },
  "orig_nbformat": 4,
  "vscode": {
   "interpreter": {
    "hash": "b00873fea601b69fcf5d3add94a63c6af5238bf69cc8eee1c7de23e514528387"
   }
  }
 },
 "nbformat": 4,
 "nbformat_minor": 2
}
