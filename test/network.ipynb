{
 "cells": [
  {
   "cell_type": "code",
   "execution_count": 2,
   "metadata": {},
   "outputs": [],
   "source": [
    "import torch\n",
    "from torch.nn import Conv2d, Linear\n",
    "from torchvision.models import resnet50\n",
    "import os,sys\n",
    "parent_dir = os.path.abspath('../')\n",
    "if parent_dir not in sys.path:\n",
    "    sys.path.append(parent_dir)"
   ]
  },
  {
   "cell_type": "code",
   "execution_count": null,
   "metadata": {},
   "outputs": [],
   "source": [
    "resnet = resnet50()"
   ]
  },
  {
   "cell_type": "code",
   "execution_count": null,
   "metadata": {},
   "outputs": [],
   "source": [
    "resnet.conv1 = Conv2d(8, 64, kernel_size=(7, 7), stride=(2, 2), padding=(3, 3), bias=False)\n",
    "resnet.fc = Linear(in_features=2048, out_features=1024, bias=True)\n",
    "print(resnet)"
   ]
  },
  {
   "cell_type": "code",
   "execution_count": null,
   "metadata": {},
   "outputs": [],
   "source": [
    "from util.frame_diff import Sandevistan\n",
    "from util.dark_enhance import DarkEnhance\n",
    "from torchvision.io import read_video\n",
    "frames, _, info  = read_video('./Run_1_1.mp4')\n",
    "print('frames',frames.shape)"
   ]
  },
  {
   "cell_type": "code",
   "execution_count": null,
   "metadata": {},
   "outputs": [],
   "source": [
    "enhancer = DarkEnhance()\n",
    "frame_diff = Sandevistan(n_frames=10,thres=1.0)\n",
    "frames = enhancer(frames).transpose(3,1).unsqueeze(0)\n",
    "out = frame_diff(frames.clone())\n",
    "print(out.shape)"
   ]
  },
  {
   "cell_type": "code",
   "execution_count": null,
   "metadata": {},
   "outputs": [],
   "source": [
    "from model.network import SandevistanCLIP, build_model\n",
    "state_dict = torch.load('/mnt/e/vit-b-16-8f.pt')['model_state_dict']\n",
    "#clip = build_model(state_dict,pretrain=True)"
   ]
  },
  {
   "cell_type": "code",
   "execution_count": null,
   "metadata": {},
   "outputs": [],
   "source": [
    "clip = build_model(state_dict,pretrain=True, motion_layers=3).cuda()\n",
    "\n",
    "del state_dict"
   ]
  },
  {
   "cell_type": "code",
   "execution_count": null,
   "metadata": {},
   "outputs": [],
   "source": [
    "a = torch.rand(6,8,3,224,224).half().cuda()\n",
    "b = torch.randint(10,(10,77)).cuda()\n",
    "out = clip.forward(a,b)"
   ]
  },
  {
   "cell_type": "code",
   "execution_count": null,
   "metadata": {},
   "outputs": [],
   "source": [
    "print(out[1].shape)"
   ]
  },
  {
   "cell_type": "code",
   "execution_count": null,
   "metadata": {},
   "outputs": [],
   "source": [
    "out[0].sum().backward()"
   ]
  },
  {
   "cell_type": "code",
   "execution_count": 3,
   "metadata": {},
   "outputs": [
    {
     "name": "stdout",
     "output_type": "stream",
     "text": [
      "tensor([[5, 4, 3, 2, 2, 2, 1, 2, 3, 5, 0, 5]])\n",
      "tensor([[0., 0., 0., 0., 0., 0., 0., 0., 0., 0., 1., 0.],\n",
      "        [0., 0., 0., 0., 0., 0., 1., 0., 0., 0., 0., 0.],\n",
      "        [0., 0., 0., 1., 1., 1., 0., 1., 0., 0., 0., 0.],\n",
      "        [0., 0., 1., 0., 0., 0., 0., 0., 1., 0., 0., 0.],\n",
      "        [0., 1., 0., 0., 0., 0., 0., 0., 0., 0., 0., 0.],\n",
      "        [1., 0., 0., 0., 0., 0., 0., 0., 0., 1., 0., 1.],\n",
      "        [0., 0., 0., 0., 0., 0., 0., 0., 0., 0., 0., 0.],\n",
      "        [0., 0., 0., 0., 0., 0., 0., 0., 0., 0., 0., 0.],\n",
      "        [0., 0., 0., 0., 0., 0., 0., 0., 0., 0., 0., 0.],\n",
      "        [0., 0., 0., 0., 0., 0., 0., 0., 0., 0., 0., 0.],\n",
      "        [0., 0., 0., 0., 0., 0., 0., 0., 0., 0., 0., 0.],\n",
      "        [0., 0., 0., 0., 0., 0., 0., 0., 0., 0., 0., 0.]])\n"
     ]
    }
   ],
   "source": [
    "a = torch.zeros(12,12)\n",
    "b = torch.tensor([[7, 1, 9, 0, 0, 0, 3, 0, 9, 7, 2, 7]],dtype=torch.long)\n",
    "u,b = torch.unique(b,return_inverse=True,sorted=False)\n",
    "#u,b = torch.unique(b,return_inverse=True,sorted=False)\n",
    "print(b)\n",
    "c = torch.ones(1,12)\n",
    "a = a.scatter(0,index=b,src=c)\n",
    "print(a)"
   ]
  },
  {
   "cell_type": "code",
   "execution_count": null,
   "metadata": {},
   "outputs": [],
   "source": [
    "torch.eq(b,b.T).to(torch.float16)"
   ]
  },
  {
   "cell_type": "code",
   "execution_count": null,
   "metadata": {},
   "outputs": [],
   "source": [
    "# tensor([7, 1, 9, 0, 0, 0, 3, 0, 9, 7, 2, 7])\n",
    "# tensor([[1., 0., 0., 0., 0., 0., 0., 0., 0., 1., 0., 1.],\n",
    "#         [0., 1., 0., 0., 0., 0., 0., 0., 0., 0., 0., 0.],\n",
    "#         [0., 0., 1., 0., 0., 0., 0., 0., 1., 0., 0., 0.],\n",
    "#         [0., 0., 0., 1., 1., 1., 0., 1., 0., 0., 0., 0.],\n",
    "#         [0., 0., 0., 1., 1., 1., 0., 1., 0., 0., 0., 0.],\n",
    "#         [0., 0., 0., 1., 1., 1., 0., 1., 0., 0., 0., 0.],\n",
    "#         [0., 0., 0., 0., 0., 0., 1., 0., 0., 0., 0., 0.],\n",
    "#         [0., 0., 0., 1., 1., 1., 0., 1., 0., 0., 0., 0.],\n",
    "#         [0., 0., 1., 0., 0., 0., 0., 0., 1., 0., 0., 0.],\n",
    "#         [1., 0., 0., 0., 0., 0., 0., 0., 0., 1., 0., 1.],\n",
    "#         [0., 0., 0., 0., 0., 0., 0., 0., 0., 0., 1., 0.],\n",
    "#         [1., 0., 0., 0., 0., 0., 0., 0., 0., 1., 0., 1.]], device='cuda:0',\n",
    "#        dtype=torch.float16)"
   ]
  },
  {
   "cell_type": "code",
   "execution_count": null,
   "metadata": {},
   "outputs": [],
   "source": [
    "a = torch.rand(6,8,3,224,224).half().cuda()\n",
    "out = clip.encode_image(a)\n",
    "print(out.shape)"
   ]
  },
  {
   "cell_type": "code",
   "execution_count": null,
   "metadata": {},
   "outputs": [],
   "source": [
    "b = torch.randint(10,(160,77)).cuda()\n",
    "out = clip.encode_text(b)\n",
    "print(out.dtype)"
   ]
  },
  {
   "cell_type": "code",
   "execution_count": null,
   "metadata": {},
   "outputs": [],
   "source": [
    "print(sys.getsizeof(out.storage()))"
   ]
  },
  {
   "cell_type": "code",
   "execution_count": 13,
   "metadata": {},
   "outputs": [
    {
     "name": "stdout",
     "output_type": "stream",
     "text": [
      "torch.Size([3, 5])\n",
      "torch.Size([3, 1])\n"
     ]
    },
    {
     "data": {
      "text/plain": [
       "tensor([ True, False,  True])"
      ]
     },
     "execution_count": 13,
     "metadata": {},
     "output_type": "execute_result"
    }
   ],
   "source": [
    "a = torch.tensor([[0,6,3,2,5],[7,4,5,3,0],[0,1,2,4,5]])\n",
    "print(a.shape)\n",
    "b = torch.tensor([0,8,2]).unsqueeze(-1)\n",
    "print(b.shape)\n",
    "torch.any(torch.eq(a,b),dim=-1)"
   ]
  },
  {
   "cell_type": "code",
   "execution_count": 10,
   "metadata": {},
   "outputs": [
    {
     "data": {
      "text/plain": [
       "tensor([ True, False,  True])"
      ]
     },
     "execution_count": 10,
     "metadata": {},
     "output_type": "execute_result"
    }
   ],
   "source": [
    "a = torch.tensor([0,1,2])\n",
    "b = torch.tensor([0,8,2])\n",
    "torch.eq(a,b)"
   ]
  }
 ],
 "metadata": {
  "kernelspec": {
   "display_name": "Python 3.9.12 ('pytorch')",
   "language": "python",
   "name": "python3"
  },
  "language_info": {
   "codemirror_mode": {
    "name": "ipython",
    "version": 3
   },
   "file_extension": ".py",
   "mimetype": "text/x-python",
   "name": "python",
   "nbconvert_exporter": "python",
   "pygments_lexer": "ipython3",
   "version": "3.9.12"
  },
  "orig_nbformat": 4,
  "vscode": {
   "interpreter": {
    "hash": "b00873fea601b69fcf5d3add94a63c6af5238bf69cc8eee1c7de23e514528387"
   }
  }
 },
 "nbformat": 4,
 "nbformat_minor": 2
}
