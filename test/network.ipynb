{
 "cells": [
  {
   "cell_type": "code",
   "execution_count": 1,
   "metadata": {},
   "outputs": [],
   "source": [
    "import torch\n",
    "from torch.nn import Conv2d, Linear\n",
    "from torchvision.models import resnet50\n",
    "import os,sys\n",
    "parent_dir = os.path.abspath('../')\n",
    "if parent_dir not in sys.path:\n",
    "    sys.path.append(parent_dir)"
   ]
  },
  {
   "cell_type": "code",
   "execution_count": null,
   "metadata": {},
   "outputs": [],
   "source": [
    "resnet = resnet50()"
   ]
  },
  {
   "cell_type": "code",
   "execution_count": null,
   "metadata": {},
   "outputs": [],
   "source": [
    "resnet.conv1 = Conv2d(8, 64, kernel_size=(7, 7), stride=(2, 2), padding=(3, 3), bias=False)\n",
    "resnet.fc = Linear(in_features=2048, out_features=1024, bias=True)\n",
    "print(resnet)"
   ]
  },
  {
   "cell_type": "code",
   "execution_count": null,
   "metadata": {},
   "outputs": [],
   "source": [
    "from util.frame_diff import Sandevistan\n",
    "from util.dark_enhance import DarkEnhance\n",
    "from torchvision.io import read_video\n",
    "frames, _, info  = read_video('./Run_1_1.mp4')\n",
    "print('frames',frames.shape)"
   ]
  },
  {
   "cell_type": "code",
   "execution_count": null,
   "metadata": {},
   "outputs": [],
   "source": [
    "enhancer = DarkEnhance()\n",
    "frame_diff = Sandevistan(n_frames=10,thres=1.0)\n",
    "frames = enhancer(frames).transpose(3,1).unsqueeze(0)\n",
    "out = frame_diff(frames.clone())\n",
    "print(out.shape)"
   ]
  },
  {
   "cell_type": "code",
   "execution_count": 2,
   "metadata": {},
   "outputs": [],
   "source": [
    "from model.network import SandevistanCLIP, build_model\n",
    "state_dict = torch.load('/mnt/e/vit-b-16-8f.pt')['model_state_dict']\n",
    "#clip = build_model(state_dict,pretrain=True)\n"
   ]
  },
  {
   "cell_type": "code",
   "execution_count": 3,
   "metadata": {},
   "outputs": [
    {
     "name": "stdout",
     "output_type": "stream",
     "text": [
      "odict_keys(['positional_embedding', 'text_projection', 'logit_scale', 'visual.class_embedding', 'visual.positional_embedding', 'visual.proj', 'visual.conv1.weight', 'visual.ln_pre.weight', 'visual.ln_pre.bias', 'visual.transformer.resblocks.0.attn.in_proj_weight', 'visual.transformer.resblocks.0.attn.in_proj_bias', 'visual.transformer.resblocks.0.attn.out_proj.weight', 'visual.transformer.resblocks.0.attn.out_proj.bias', 'visual.transformer.resblocks.0.ln_1.weight', 'visual.transformer.resblocks.0.ln_1.bias', 'visual.transformer.resblocks.0.mlp.c_fc.weight', 'visual.transformer.resblocks.0.mlp.c_fc.bias', 'visual.transformer.resblocks.0.mlp.c_proj.weight', 'visual.transformer.resblocks.0.mlp.c_proj.bias', 'visual.transformer.resblocks.0.ln_2.weight', 'visual.transformer.resblocks.0.ln_2.bias', 'visual.transformer.resblocks.1.attn.in_proj_weight', 'visual.transformer.resblocks.1.attn.in_proj_bias', 'visual.transformer.resblocks.1.attn.out_proj.weight', 'visual.transformer.resblocks.1.attn.out_proj.bias', 'visual.transformer.resblocks.1.ln_1.weight', 'visual.transformer.resblocks.1.ln_1.bias', 'visual.transformer.resblocks.1.mlp.c_fc.weight', 'visual.transformer.resblocks.1.mlp.c_fc.bias', 'visual.transformer.resblocks.1.mlp.c_proj.weight', 'visual.transformer.resblocks.1.mlp.c_proj.bias', 'visual.transformer.resblocks.1.ln_2.weight', 'visual.transformer.resblocks.1.ln_2.bias', 'visual.transformer.resblocks.2.attn.in_proj_weight', 'visual.transformer.resblocks.2.attn.in_proj_bias', 'visual.transformer.resblocks.2.attn.out_proj.weight', 'visual.transformer.resblocks.2.attn.out_proj.bias', 'visual.transformer.resblocks.2.ln_1.weight', 'visual.transformer.resblocks.2.ln_1.bias', 'visual.transformer.resblocks.2.mlp.c_fc.weight', 'visual.transformer.resblocks.2.mlp.c_fc.bias', 'visual.transformer.resblocks.2.mlp.c_proj.weight', 'visual.transformer.resblocks.2.mlp.c_proj.bias', 'visual.transformer.resblocks.2.ln_2.weight', 'visual.transformer.resblocks.2.ln_2.bias', 'visual.transformer.resblocks.3.attn.in_proj_weight', 'visual.transformer.resblocks.3.attn.in_proj_bias', 'visual.transformer.resblocks.3.attn.out_proj.weight', 'visual.transformer.resblocks.3.attn.out_proj.bias', 'visual.transformer.resblocks.3.ln_1.weight', 'visual.transformer.resblocks.3.ln_1.bias', 'visual.transformer.resblocks.3.mlp.c_fc.weight', 'visual.transformer.resblocks.3.mlp.c_fc.bias', 'visual.transformer.resblocks.3.mlp.c_proj.weight', 'visual.transformer.resblocks.3.mlp.c_proj.bias', 'visual.transformer.resblocks.3.ln_2.weight', 'visual.transformer.resblocks.3.ln_2.bias', 'visual.transformer.resblocks.4.attn.in_proj_weight', 'visual.transformer.resblocks.4.attn.in_proj_bias', 'visual.transformer.resblocks.4.attn.out_proj.weight', 'visual.transformer.resblocks.4.attn.out_proj.bias', 'visual.transformer.resblocks.4.ln_1.weight', 'visual.transformer.resblocks.4.ln_1.bias', 'visual.transformer.resblocks.4.mlp.c_fc.weight', 'visual.transformer.resblocks.4.mlp.c_fc.bias', 'visual.transformer.resblocks.4.mlp.c_proj.weight', 'visual.transformer.resblocks.4.mlp.c_proj.bias', 'visual.transformer.resblocks.4.ln_2.weight', 'visual.transformer.resblocks.4.ln_2.bias', 'visual.transformer.resblocks.5.attn.in_proj_weight', 'visual.transformer.resblocks.5.attn.in_proj_bias', 'visual.transformer.resblocks.5.attn.out_proj.weight', 'visual.transformer.resblocks.5.attn.out_proj.bias', 'visual.transformer.resblocks.5.ln_1.weight', 'visual.transformer.resblocks.5.ln_1.bias', 'visual.transformer.resblocks.5.mlp.c_fc.weight', 'visual.transformer.resblocks.5.mlp.c_fc.bias', 'visual.transformer.resblocks.5.mlp.c_proj.weight', 'visual.transformer.resblocks.5.mlp.c_proj.bias', 'visual.transformer.resblocks.5.ln_2.weight', 'visual.transformer.resblocks.5.ln_2.bias', 'visual.transformer.resblocks.6.attn.in_proj_weight', 'visual.transformer.resblocks.6.attn.in_proj_bias', 'visual.transformer.resblocks.6.attn.out_proj.weight', 'visual.transformer.resblocks.6.attn.out_proj.bias', 'visual.transformer.resblocks.6.ln_1.weight', 'visual.transformer.resblocks.6.ln_1.bias', 'visual.transformer.resblocks.6.mlp.c_fc.weight', 'visual.transformer.resblocks.6.mlp.c_fc.bias', 'visual.transformer.resblocks.6.mlp.c_proj.weight', 'visual.transformer.resblocks.6.mlp.c_proj.bias', 'visual.transformer.resblocks.6.ln_2.weight', 'visual.transformer.resblocks.6.ln_2.bias', 'visual.transformer.resblocks.7.attn.in_proj_weight', 'visual.transformer.resblocks.7.attn.in_proj_bias', 'visual.transformer.resblocks.7.attn.out_proj.weight', 'visual.transformer.resblocks.7.attn.out_proj.bias', 'visual.transformer.resblocks.7.ln_1.weight', 'visual.transformer.resblocks.7.ln_1.bias', 'visual.transformer.resblocks.7.mlp.c_fc.weight', 'visual.transformer.resblocks.7.mlp.c_fc.bias', 'visual.transformer.resblocks.7.mlp.c_proj.weight', 'visual.transformer.resblocks.7.mlp.c_proj.bias', 'visual.transformer.resblocks.7.ln_2.weight', 'visual.transformer.resblocks.7.ln_2.bias', 'visual.transformer.resblocks.8.attn.in_proj_weight', 'visual.transformer.resblocks.8.attn.in_proj_bias', 'visual.transformer.resblocks.8.attn.out_proj.weight', 'visual.transformer.resblocks.8.attn.out_proj.bias', 'visual.transformer.resblocks.8.ln_1.weight', 'visual.transformer.resblocks.8.ln_1.bias', 'visual.transformer.resblocks.8.mlp.c_fc.weight', 'visual.transformer.resblocks.8.mlp.c_fc.bias', 'visual.transformer.resblocks.8.mlp.c_proj.weight', 'visual.transformer.resblocks.8.mlp.c_proj.bias', 'visual.transformer.resblocks.8.ln_2.weight', 'visual.transformer.resblocks.8.ln_2.bias', 'visual.transformer.resblocks.9.attn.in_proj_weight', 'visual.transformer.resblocks.9.attn.in_proj_bias', 'visual.transformer.resblocks.9.attn.out_proj.weight', 'visual.transformer.resblocks.9.attn.out_proj.bias', 'visual.transformer.resblocks.9.ln_1.weight', 'visual.transformer.resblocks.9.ln_1.bias', 'visual.transformer.resblocks.9.mlp.c_fc.weight', 'visual.transformer.resblocks.9.mlp.c_fc.bias', 'visual.transformer.resblocks.9.mlp.c_proj.weight', 'visual.transformer.resblocks.9.mlp.c_proj.bias', 'visual.transformer.resblocks.9.ln_2.weight', 'visual.transformer.resblocks.9.ln_2.bias', 'visual.transformer.resblocks.10.attn.in_proj_weight', 'visual.transformer.resblocks.10.attn.in_proj_bias', 'visual.transformer.resblocks.10.attn.out_proj.weight', 'visual.transformer.resblocks.10.attn.out_proj.bias', 'visual.transformer.resblocks.10.ln_1.weight', 'visual.transformer.resblocks.10.ln_1.bias', 'visual.transformer.resblocks.10.mlp.c_fc.weight', 'visual.transformer.resblocks.10.mlp.c_fc.bias', 'visual.transformer.resblocks.10.mlp.c_proj.weight', 'visual.transformer.resblocks.10.mlp.c_proj.bias', 'visual.transformer.resblocks.10.ln_2.weight', 'visual.transformer.resblocks.10.ln_2.bias', 'visual.transformer.resblocks.11.attn.in_proj_weight', 'visual.transformer.resblocks.11.attn.in_proj_bias', 'visual.transformer.resblocks.11.attn.out_proj.weight', 'visual.transformer.resblocks.11.attn.out_proj.bias', 'visual.transformer.resblocks.11.ln_1.weight', 'visual.transformer.resblocks.11.ln_1.bias', 'visual.transformer.resblocks.11.mlp.c_fc.weight', 'visual.transformer.resblocks.11.mlp.c_fc.bias', 'visual.transformer.resblocks.11.mlp.c_proj.weight', 'visual.transformer.resblocks.11.mlp.c_proj.bias', 'visual.transformer.resblocks.11.ln_2.weight', 'visual.transformer.resblocks.11.ln_2.bias', 'visual.ln_post.weight', 'visual.ln_post.bias', 'transformer.resblocks.0.attn.in_proj_weight', 'transformer.resblocks.0.attn.in_proj_bias', 'transformer.resblocks.0.attn.out_proj.weight', 'transformer.resblocks.0.attn.out_proj.bias', 'transformer.resblocks.0.ln_1.weight', 'transformer.resblocks.0.ln_1.bias', 'transformer.resblocks.0.mlp.c_fc.weight', 'transformer.resblocks.0.mlp.c_fc.bias', 'transformer.resblocks.0.mlp.c_proj.weight', 'transformer.resblocks.0.mlp.c_proj.bias', 'transformer.resblocks.0.ln_2.weight', 'transformer.resblocks.0.ln_2.bias', 'transformer.resblocks.1.attn.in_proj_weight', 'transformer.resblocks.1.attn.in_proj_bias', 'transformer.resblocks.1.attn.out_proj.weight', 'transformer.resblocks.1.attn.out_proj.bias', 'transformer.resblocks.1.ln_1.weight', 'transformer.resblocks.1.ln_1.bias', 'transformer.resblocks.1.mlp.c_fc.weight', 'transformer.resblocks.1.mlp.c_fc.bias', 'transformer.resblocks.1.mlp.c_proj.weight', 'transformer.resblocks.1.mlp.c_proj.bias', 'transformer.resblocks.1.ln_2.weight', 'transformer.resblocks.1.ln_2.bias', 'transformer.resblocks.2.attn.in_proj_weight', 'transformer.resblocks.2.attn.in_proj_bias', 'transformer.resblocks.2.attn.out_proj.weight', 'transformer.resblocks.2.attn.out_proj.bias', 'transformer.resblocks.2.ln_1.weight', 'transformer.resblocks.2.ln_1.bias', 'transformer.resblocks.2.mlp.c_fc.weight', 'transformer.resblocks.2.mlp.c_fc.bias', 'transformer.resblocks.2.mlp.c_proj.weight', 'transformer.resblocks.2.mlp.c_proj.bias', 'transformer.resblocks.2.ln_2.weight', 'transformer.resblocks.2.ln_2.bias', 'transformer.resblocks.3.attn.in_proj_weight', 'transformer.resblocks.3.attn.in_proj_bias', 'transformer.resblocks.3.attn.out_proj.weight', 'transformer.resblocks.3.attn.out_proj.bias', 'transformer.resblocks.3.ln_1.weight', 'transformer.resblocks.3.ln_1.bias', 'transformer.resblocks.3.mlp.c_fc.weight', 'transformer.resblocks.3.mlp.c_fc.bias', 'transformer.resblocks.3.mlp.c_proj.weight', 'transformer.resblocks.3.mlp.c_proj.bias', 'transformer.resblocks.3.ln_2.weight', 'transformer.resblocks.3.ln_2.bias', 'transformer.resblocks.4.attn.in_proj_weight', 'transformer.resblocks.4.attn.in_proj_bias', 'transformer.resblocks.4.attn.out_proj.weight', 'transformer.resblocks.4.attn.out_proj.bias', 'transformer.resblocks.4.ln_1.weight', 'transformer.resblocks.4.ln_1.bias', 'transformer.resblocks.4.mlp.c_fc.weight', 'transformer.resblocks.4.mlp.c_fc.bias', 'transformer.resblocks.4.mlp.c_proj.weight', 'transformer.resblocks.4.mlp.c_proj.bias', 'transformer.resblocks.4.ln_2.weight', 'transformer.resblocks.4.ln_2.bias', 'transformer.resblocks.5.attn.in_proj_weight', 'transformer.resblocks.5.attn.in_proj_bias', 'transformer.resblocks.5.attn.out_proj.weight', 'transformer.resblocks.5.attn.out_proj.bias', 'transformer.resblocks.5.ln_1.weight', 'transformer.resblocks.5.ln_1.bias', 'transformer.resblocks.5.mlp.c_fc.weight', 'transformer.resblocks.5.mlp.c_fc.bias', 'transformer.resblocks.5.mlp.c_proj.weight', 'transformer.resblocks.5.mlp.c_proj.bias', 'transformer.resblocks.5.ln_2.weight', 'transformer.resblocks.5.ln_2.bias', 'transformer.resblocks.6.attn.in_proj_weight', 'transformer.resblocks.6.attn.in_proj_bias', 'transformer.resblocks.6.attn.out_proj.weight', 'transformer.resblocks.6.attn.out_proj.bias', 'transformer.resblocks.6.ln_1.weight', 'transformer.resblocks.6.ln_1.bias', 'transformer.resblocks.6.mlp.c_fc.weight', 'transformer.resblocks.6.mlp.c_fc.bias', 'transformer.resblocks.6.mlp.c_proj.weight', 'transformer.resblocks.6.mlp.c_proj.bias', 'transformer.resblocks.6.ln_2.weight', 'transformer.resblocks.6.ln_2.bias', 'transformer.resblocks.7.attn.in_proj_weight', 'transformer.resblocks.7.attn.in_proj_bias', 'transformer.resblocks.7.attn.out_proj.weight', 'transformer.resblocks.7.attn.out_proj.bias', 'transformer.resblocks.7.ln_1.weight', 'transformer.resblocks.7.ln_1.bias', 'transformer.resblocks.7.mlp.c_fc.weight', 'transformer.resblocks.7.mlp.c_fc.bias', 'transformer.resblocks.7.mlp.c_proj.weight', 'transformer.resblocks.7.mlp.c_proj.bias', 'transformer.resblocks.7.ln_2.weight', 'transformer.resblocks.7.ln_2.bias', 'transformer.resblocks.8.attn.in_proj_weight', 'transformer.resblocks.8.attn.in_proj_bias', 'transformer.resblocks.8.attn.out_proj.weight', 'transformer.resblocks.8.attn.out_proj.bias', 'transformer.resblocks.8.ln_1.weight', 'transformer.resblocks.8.ln_1.bias', 'transformer.resblocks.8.mlp.c_fc.weight', 'transformer.resblocks.8.mlp.c_fc.bias', 'transformer.resblocks.8.mlp.c_proj.weight', 'transformer.resblocks.8.mlp.c_proj.bias', 'transformer.resblocks.8.ln_2.weight', 'transformer.resblocks.8.ln_2.bias', 'transformer.resblocks.9.attn.in_proj_weight', 'transformer.resblocks.9.attn.in_proj_bias', 'transformer.resblocks.9.attn.out_proj.weight', 'transformer.resblocks.9.attn.out_proj.bias', 'transformer.resblocks.9.ln_1.weight', 'transformer.resblocks.9.ln_1.bias', 'transformer.resblocks.9.mlp.c_fc.weight', 'transformer.resblocks.9.mlp.c_fc.bias', 'transformer.resblocks.9.mlp.c_proj.weight', 'transformer.resblocks.9.mlp.c_proj.bias', 'transformer.resblocks.9.ln_2.weight', 'transformer.resblocks.9.ln_2.bias', 'transformer.resblocks.10.attn.in_proj_weight', 'transformer.resblocks.10.attn.in_proj_bias', 'transformer.resblocks.10.attn.out_proj.weight', 'transformer.resblocks.10.attn.out_proj.bias', 'transformer.resblocks.10.ln_1.weight', 'transformer.resblocks.10.ln_1.bias', 'transformer.resblocks.10.mlp.c_fc.weight', 'transformer.resblocks.10.mlp.c_fc.bias', 'transformer.resblocks.10.mlp.c_proj.weight', 'transformer.resblocks.10.mlp.c_proj.bias', 'transformer.resblocks.10.ln_2.weight', 'transformer.resblocks.10.ln_2.bias', 'transformer.resblocks.11.attn.in_proj_weight', 'transformer.resblocks.11.attn.in_proj_bias', 'transformer.resblocks.11.attn.out_proj.weight', 'transformer.resblocks.11.attn.out_proj.bias', 'transformer.resblocks.11.ln_1.weight', 'transformer.resblocks.11.ln_1.bias', 'transformer.resblocks.11.mlp.c_fc.weight', 'transformer.resblocks.11.mlp.c_fc.bias', 'transformer.resblocks.11.mlp.c_proj.weight', 'transformer.resblocks.11.mlp.c_proj.bias', 'transformer.resblocks.11.ln_2.weight', 'transformer.resblocks.11.ln_2.bias', 'token_embedding.weight', 'ln_final.weight', 'ln_final.bias'])\n"
     ]
    }
   ],
   "source": [
    "print(state_dict.keys())"
   ]
  },
  {
   "cell_type": "code",
   "execution_count": null,
   "metadata": {},
   "outputs": [],
   "source": [
    "optim_dict = torch.load('/mnt/e/vit-b-16-8f.pt')['optimizer_state_dict']"
   ]
  },
  {
   "cell_type": "code",
   "execution_count": null,
   "metadata": {},
   "outputs": [],
   "source": [
    "print(state_dict['fusion_model_state_dict'].keys())"
   ]
  },
  {
   "cell_type": "code",
   "execution_count": null,
   "metadata": {},
   "outputs": [],
   "source": [
    "state_dict[\"text_projection\"].shape[1]"
   ]
  },
  {
   "cell_type": "code",
   "execution_count": null,
   "metadata": {},
   "outputs": [],
   "source": [
    "fusion_state_dict = torch.load('/mnt/e/vit-b-16-8f.pt')['fusion_model_state_dict']"
   ]
  },
  {
   "cell_type": "code",
   "execution_count": null,
   "metadata": {},
   "outputs": [],
   "source": [
    "new_fusion_state_dict={}\n",
    "for k,v in fusion_state_dict.items():\n",
    "    k = k.strip('module.')\n",
    "    if 'transformer' in k:\n",
    "        k = k.replace('transformer','temporal')\n",
    "    new_fusion_state_dict[k] = v"
   ]
  },
  {
   "cell_type": "code",
   "execution_count": null,
   "metadata": {},
   "outputs": [],
   "source": [
    "print(new_fusion_state_dict.keys())"
   ]
  },
  {
   "cell_type": "code",
   "execution_count": 5,
   "metadata": {},
   "outputs": [],
   "source": [
    "motion = {}\n",
    "for k,v in state_dict.items():\n",
    "    if 'visual.' in k:\n",
    "        if k == 'visual.conv1.weight':\n",
    "            continue\n",
    "        k_ = k.replace('visual.','motion.')\n",
    "        motion[k_] = v\n",
    "state_dict.update(motion)"
   ]
  },
  {
   "cell_type": "code",
   "execution_count": 6,
   "metadata": {},
   "outputs": [
    {
     "name": "stdout",
     "output_type": "stream",
     "text": [
      "odict_keys(['positional_embedding', 'text_projection', 'logit_scale', 'visual.class_embedding', 'visual.positional_embedding', 'visual.proj', 'visual.conv1.weight', 'visual.ln_pre.weight', 'visual.ln_pre.bias', 'visual.transformer.resblocks.0.attn.in_proj_weight', 'visual.transformer.resblocks.0.attn.in_proj_bias', 'visual.transformer.resblocks.0.attn.out_proj.weight', 'visual.transformer.resblocks.0.attn.out_proj.bias', 'visual.transformer.resblocks.0.ln_1.weight', 'visual.transformer.resblocks.0.ln_1.bias', 'visual.transformer.resblocks.0.mlp.c_fc.weight', 'visual.transformer.resblocks.0.mlp.c_fc.bias', 'visual.transformer.resblocks.0.mlp.c_proj.weight', 'visual.transformer.resblocks.0.mlp.c_proj.bias', 'visual.transformer.resblocks.0.ln_2.weight', 'visual.transformer.resblocks.0.ln_2.bias', 'visual.transformer.resblocks.1.attn.in_proj_weight', 'visual.transformer.resblocks.1.attn.in_proj_bias', 'visual.transformer.resblocks.1.attn.out_proj.weight', 'visual.transformer.resblocks.1.attn.out_proj.bias', 'visual.transformer.resblocks.1.ln_1.weight', 'visual.transformer.resblocks.1.ln_1.bias', 'visual.transformer.resblocks.1.mlp.c_fc.weight', 'visual.transformer.resblocks.1.mlp.c_fc.bias', 'visual.transformer.resblocks.1.mlp.c_proj.weight', 'visual.transformer.resblocks.1.mlp.c_proj.bias', 'visual.transformer.resblocks.1.ln_2.weight', 'visual.transformer.resblocks.1.ln_2.bias', 'visual.transformer.resblocks.2.attn.in_proj_weight', 'visual.transformer.resblocks.2.attn.in_proj_bias', 'visual.transformer.resblocks.2.attn.out_proj.weight', 'visual.transformer.resblocks.2.attn.out_proj.bias', 'visual.transformer.resblocks.2.ln_1.weight', 'visual.transformer.resblocks.2.ln_1.bias', 'visual.transformer.resblocks.2.mlp.c_fc.weight', 'visual.transformer.resblocks.2.mlp.c_fc.bias', 'visual.transformer.resblocks.2.mlp.c_proj.weight', 'visual.transformer.resblocks.2.mlp.c_proj.bias', 'visual.transformer.resblocks.2.ln_2.weight', 'visual.transformer.resblocks.2.ln_2.bias', 'visual.transformer.resblocks.3.attn.in_proj_weight', 'visual.transformer.resblocks.3.attn.in_proj_bias', 'visual.transformer.resblocks.3.attn.out_proj.weight', 'visual.transformer.resblocks.3.attn.out_proj.bias', 'visual.transformer.resblocks.3.ln_1.weight', 'visual.transformer.resblocks.3.ln_1.bias', 'visual.transformer.resblocks.3.mlp.c_fc.weight', 'visual.transformer.resblocks.3.mlp.c_fc.bias', 'visual.transformer.resblocks.3.mlp.c_proj.weight', 'visual.transformer.resblocks.3.mlp.c_proj.bias', 'visual.transformer.resblocks.3.ln_2.weight', 'visual.transformer.resblocks.3.ln_2.bias', 'visual.transformer.resblocks.4.attn.in_proj_weight', 'visual.transformer.resblocks.4.attn.in_proj_bias', 'visual.transformer.resblocks.4.attn.out_proj.weight', 'visual.transformer.resblocks.4.attn.out_proj.bias', 'visual.transformer.resblocks.4.ln_1.weight', 'visual.transformer.resblocks.4.ln_1.bias', 'visual.transformer.resblocks.4.mlp.c_fc.weight', 'visual.transformer.resblocks.4.mlp.c_fc.bias', 'visual.transformer.resblocks.4.mlp.c_proj.weight', 'visual.transformer.resblocks.4.mlp.c_proj.bias', 'visual.transformer.resblocks.4.ln_2.weight', 'visual.transformer.resblocks.4.ln_2.bias', 'visual.transformer.resblocks.5.attn.in_proj_weight', 'visual.transformer.resblocks.5.attn.in_proj_bias', 'visual.transformer.resblocks.5.attn.out_proj.weight', 'visual.transformer.resblocks.5.attn.out_proj.bias', 'visual.transformer.resblocks.5.ln_1.weight', 'visual.transformer.resblocks.5.ln_1.bias', 'visual.transformer.resblocks.5.mlp.c_fc.weight', 'visual.transformer.resblocks.5.mlp.c_fc.bias', 'visual.transformer.resblocks.5.mlp.c_proj.weight', 'visual.transformer.resblocks.5.mlp.c_proj.bias', 'visual.transformer.resblocks.5.ln_2.weight', 'visual.transformer.resblocks.5.ln_2.bias', 'visual.transformer.resblocks.6.attn.in_proj_weight', 'visual.transformer.resblocks.6.attn.in_proj_bias', 'visual.transformer.resblocks.6.attn.out_proj.weight', 'visual.transformer.resblocks.6.attn.out_proj.bias', 'visual.transformer.resblocks.6.ln_1.weight', 'visual.transformer.resblocks.6.ln_1.bias', 'visual.transformer.resblocks.6.mlp.c_fc.weight', 'visual.transformer.resblocks.6.mlp.c_fc.bias', 'visual.transformer.resblocks.6.mlp.c_proj.weight', 'visual.transformer.resblocks.6.mlp.c_proj.bias', 'visual.transformer.resblocks.6.ln_2.weight', 'visual.transformer.resblocks.6.ln_2.bias', 'visual.transformer.resblocks.7.attn.in_proj_weight', 'visual.transformer.resblocks.7.attn.in_proj_bias', 'visual.transformer.resblocks.7.attn.out_proj.weight', 'visual.transformer.resblocks.7.attn.out_proj.bias', 'visual.transformer.resblocks.7.ln_1.weight', 'visual.transformer.resblocks.7.ln_1.bias', 'visual.transformer.resblocks.7.mlp.c_fc.weight', 'visual.transformer.resblocks.7.mlp.c_fc.bias', 'visual.transformer.resblocks.7.mlp.c_proj.weight', 'visual.transformer.resblocks.7.mlp.c_proj.bias', 'visual.transformer.resblocks.7.ln_2.weight', 'visual.transformer.resblocks.7.ln_2.bias', 'visual.transformer.resblocks.8.attn.in_proj_weight', 'visual.transformer.resblocks.8.attn.in_proj_bias', 'visual.transformer.resblocks.8.attn.out_proj.weight', 'visual.transformer.resblocks.8.attn.out_proj.bias', 'visual.transformer.resblocks.8.ln_1.weight', 'visual.transformer.resblocks.8.ln_1.bias', 'visual.transformer.resblocks.8.mlp.c_fc.weight', 'visual.transformer.resblocks.8.mlp.c_fc.bias', 'visual.transformer.resblocks.8.mlp.c_proj.weight', 'visual.transformer.resblocks.8.mlp.c_proj.bias', 'visual.transformer.resblocks.8.ln_2.weight', 'visual.transformer.resblocks.8.ln_2.bias', 'visual.transformer.resblocks.9.attn.in_proj_weight', 'visual.transformer.resblocks.9.attn.in_proj_bias', 'visual.transformer.resblocks.9.attn.out_proj.weight', 'visual.transformer.resblocks.9.attn.out_proj.bias', 'visual.transformer.resblocks.9.ln_1.weight', 'visual.transformer.resblocks.9.ln_1.bias', 'visual.transformer.resblocks.9.mlp.c_fc.weight', 'visual.transformer.resblocks.9.mlp.c_fc.bias', 'visual.transformer.resblocks.9.mlp.c_proj.weight', 'visual.transformer.resblocks.9.mlp.c_proj.bias', 'visual.transformer.resblocks.9.ln_2.weight', 'visual.transformer.resblocks.9.ln_2.bias', 'visual.transformer.resblocks.10.attn.in_proj_weight', 'visual.transformer.resblocks.10.attn.in_proj_bias', 'visual.transformer.resblocks.10.attn.out_proj.weight', 'visual.transformer.resblocks.10.attn.out_proj.bias', 'visual.transformer.resblocks.10.ln_1.weight', 'visual.transformer.resblocks.10.ln_1.bias', 'visual.transformer.resblocks.10.mlp.c_fc.weight', 'visual.transformer.resblocks.10.mlp.c_fc.bias', 'visual.transformer.resblocks.10.mlp.c_proj.weight', 'visual.transformer.resblocks.10.mlp.c_proj.bias', 'visual.transformer.resblocks.10.ln_2.weight', 'visual.transformer.resblocks.10.ln_2.bias', 'visual.transformer.resblocks.11.attn.in_proj_weight', 'visual.transformer.resblocks.11.attn.in_proj_bias', 'visual.transformer.resblocks.11.attn.out_proj.weight', 'visual.transformer.resblocks.11.attn.out_proj.bias', 'visual.transformer.resblocks.11.ln_1.weight', 'visual.transformer.resblocks.11.ln_1.bias', 'visual.transformer.resblocks.11.mlp.c_fc.weight', 'visual.transformer.resblocks.11.mlp.c_fc.bias', 'visual.transformer.resblocks.11.mlp.c_proj.weight', 'visual.transformer.resblocks.11.mlp.c_proj.bias', 'visual.transformer.resblocks.11.ln_2.weight', 'visual.transformer.resblocks.11.ln_2.bias', 'visual.ln_post.weight', 'visual.ln_post.bias', 'transformer.resblocks.0.attn.in_proj_weight', 'transformer.resblocks.0.attn.in_proj_bias', 'transformer.resblocks.0.attn.out_proj.weight', 'transformer.resblocks.0.attn.out_proj.bias', 'transformer.resblocks.0.ln_1.weight', 'transformer.resblocks.0.ln_1.bias', 'transformer.resblocks.0.mlp.c_fc.weight', 'transformer.resblocks.0.mlp.c_fc.bias', 'transformer.resblocks.0.mlp.c_proj.weight', 'transformer.resblocks.0.mlp.c_proj.bias', 'transformer.resblocks.0.ln_2.weight', 'transformer.resblocks.0.ln_2.bias', 'transformer.resblocks.1.attn.in_proj_weight', 'transformer.resblocks.1.attn.in_proj_bias', 'transformer.resblocks.1.attn.out_proj.weight', 'transformer.resblocks.1.attn.out_proj.bias', 'transformer.resblocks.1.ln_1.weight', 'transformer.resblocks.1.ln_1.bias', 'transformer.resblocks.1.mlp.c_fc.weight', 'transformer.resblocks.1.mlp.c_fc.bias', 'transformer.resblocks.1.mlp.c_proj.weight', 'transformer.resblocks.1.mlp.c_proj.bias', 'transformer.resblocks.1.ln_2.weight', 'transformer.resblocks.1.ln_2.bias', 'transformer.resblocks.2.attn.in_proj_weight', 'transformer.resblocks.2.attn.in_proj_bias', 'transformer.resblocks.2.attn.out_proj.weight', 'transformer.resblocks.2.attn.out_proj.bias', 'transformer.resblocks.2.ln_1.weight', 'transformer.resblocks.2.ln_1.bias', 'transformer.resblocks.2.mlp.c_fc.weight', 'transformer.resblocks.2.mlp.c_fc.bias', 'transformer.resblocks.2.mlp.c_proj.weight', 'transformer.resblocks.2.mlp.c_proj.bias', 'transformer.resblocks.2.ln_2.weight', 'transformer.resblocks.2.ln_2.bias', 'transformer.resblocks.3.attn.in_proj_weight', 'transformer.resblocks.3.attn.in_proj_bias', 'transformer.resblocks.3.attn.out_proj.weight', 'transformer.resblocks.3.attn.out_proj.bias', 'transformer.resblocks.3.ln_1.weight', 'transformer.resblocks.3.ln_1.bias', 'transformer.resblocks.3.mlp.c_fc.weight', 'transformer.resblocks.3.mlp.c_fc.bias', 'transformer.resblocks.3.mlp.c_proj.weight', 'transformer.resblocks.3.mlp.c_proj.bias', 'transformer.resblocks.3.ln_2.weight', 'transformer.resblocks.3.ln_2.bias', 'transformer.resblocks.4.attn.in_proj_weight', 'transformer.resblocks.4.attn.in_proj_bias', 'transformer.resblocks.4.attn.out_proj.weight', 'transformer.resblocks.4.attn.out_proj.bias', 'transformer.resblocks.4.ln_1.weight', 'transformer.resblocks.4.ln_1.bias', 'transformer.resblocks.4.mlp.c_fc.weight', 'transformer.resblocks.4.mlp.c_fc.bias', 'transformer.resblocks.4.mlp.c_proj.weight', 'transformer.resblocks.4.mlp.c_proj.bias', 'transformer.resblocks.4.ln_2.weight', 'transformer.resblocks.4.ln_2.bias', 'transformer.resblocks.5.attn.in_proj_weight', 'transformer.resblocks.5.attn.in_proj_bias', 'transformer.resblocks.5.attn.out_proj.weight', 'transformer.resblocks.5.attn.out_proj.bias', 'transformer.resblocks.5.ln_1.weight', 'transformer.resblocks.5.ln_1.bias', 'transformer.resblocks.5.mlp.c_fc.weight', 'transformer.resblocks.5.mlp.c_fc.bias', 'transformer.resblocks.5.mlp.c_proj.weight', 'transformer.resblocks.5.mlp.c_proj.bias', 'transformer.resblocks.5.ln_2.weight', 'transformer.resblocks.5.ln_2.bias', 'transformer.resblocks.6.attn.in_proj_weight', 'transformer.resblocks.6.attn.in_proj_bias', 'transformer.resblocks.6.attn.out_proj.weight', 'transformer.resblocks.6.attn.out_proj.bias', 'transformer.resblocks.6.ln_1.weight', 'transformer.resblocks.6.ln_1.bias', 'transformer.resblocks.6.mlp.c_fc.weight', 'transformer.resblocks.6.mlp.c_fc.bias', 'transformer.resblocks.6.mlp.c_proj.weight', 'transformer.resblocks.6.mlp.c_proj.bias', 'transformer.resblocks.6.ln_2.weight', 'transformer.resblocks.6.ln_2.bias', 'transformer.resblocks.7.attn.in_proj_weight', 'transformer.resblocks.7.attn.in_proj_bias', 'transformer.resblocks.7.attn.out_proj.weight', 'transformer.resblocks.7.attn.out_proj.bias', 'transformer.resblocks.7.ln_1.weight', 'transformer.resblocks.7.ln_1.bias', 'transformer.resblocks.7.mlp.c_fc.weight', 'transformer.resblocks.7.mlp.c_fc.bias', 'transformer.resblocks.7.mlp.c_proj.weight', 'transformer.resblocks.7.mlp.c_proj.bias', 'transformer.resblocks.7.ln_2.weight', 'transformer.resblocks.7.ln_2.bias', 'transformer.resblocks.8.attn.in_proj_weight', 'transformer.resblocks.8.attn.in_proj_bias', 'transformer.resblocks.8.attn.out_proj.weight', 'transformer.resblocks.8.attn.out_proj.bias', 'transformer.resblocks.8.ln_1.weight', 'transformer.resblocks.8.ln_1.bias', 'transformer.resblocks.8.mlp.c_fc.weight', 'transformer.resblocks.8.mlp.c_fc.bias', 'transformer.resblocks.8.mlp.c_proj.weight', 'transformer.resblocks.8.mlp.c_proj.bias', 'transformer.resblocks.8.ln_2.weight', 'transformer.resblocks.8.ln_2.bias', 'transformer.resblocks.9.attn.in_proj_weight', 'transformer.resblocks.9.attn.in_proj_bias', 'transformer.resblocks.9.attn.out_proj.weight', 'transformer.resblocks.9.attn.out_proj.bias', 'transformer.resblocks.9.ln_1.weight', 'transformer.resblocks.9.ln_1.bias', 'transformer.resblocks.9.mlp.c_fc.weight', 'transformer.resblocks.9.mlp.c_fc.bias', 'transformer.resblocks.9.mlp.c_proj.weight', 'transformer.resblocks.9.mlp.c_proj.bias', 'transformer.resblocks.9.ln_2.weight', 'transformer.resblocks.9.ln_2.bias', 'transformer.resblocks.10.attn.in_proj_weight', 'transformer.resblocks.10.attn.in_proj_bias', 'transformer.resblocks.10.attn.out_proj.weight', 'transformer.resblocks.10.attn.out_proj.bias', 'transformer.resblocks.10.ln_1.weight', 'transformer.resblocks.10.ln_1.bias', 'transformer.resblocks.10.mlp.c_fc.weight', 'transformer.resblocks.10.mlp.c_fc.bias', 'transformer.resblocks.10.mlp.c_proj.weight', 'transformer.resblocks.10.mlp.c_proj.bias', 'transformer.resblocks.10.ln_2.weight', 'transformer.resblocks.10.ln_2.bias', 'transformer.resblocks.11.attn.in_proj_weight', 'transformer.resblocks.11.attn.in_proj_bias', 'transformer.resblocks.11.attn.out_proj.weight', 'transformer.resblocks.11.attn.out_proj.bias', 'transformer.resblocks.11.ln_1.weight', 'transformer.resblocks.11.ln_1.bias', 'transformer.resblocks.11.mlp.c_fc.weight', 'transformer.resblocks.11.mlp.c_fc.bias', 'transformer.resblocks.11.mlp.c_proj.weight', 'transformer.resblocks.11.mlp.c_proj.bias', 'transformer.resblocks.11.ln_2.weight', 'transformer.resblocks.11.ln_2.bias', 'token_embedding.weight', 'ln_final.weight', 'ln_final.bias', 'motion.class_embedding', 'motion.positional_embedding', 'motion.proj', 'motion.ln_pre.weight', 'motion.ln_pre.bias', 'motion.transformer.resblocks.0.attn.in_proj_weight', 'motion.transformer.resblocks.0.attn.in_proj_bias', 'motion.transformer.resblocks.0.attn.out_proj.weight', 'motion.transformer.resblocks.0.attn.out_proj.bias', 'motion.transformer.resblocks.0.ln_1.weight', 'motion.transformer.resblocks.0.ln_1.bias', 'motion.transformer.resblocks.0.mlp.c_fc.weight', 'motion.transformer.resblocks.0.mlp.c_fc.bias', 'motion.transformer.resblocks.0.mlp.c_proj.weight', 'motion.transformer.resblocks.0.mlp.c_proj.bias', 'motion.transformer.resblocks.0.ln_2.weight', 'motion.transformer.resblocks.0.ln_2.bias', 'motion.transformer.resblocks.1.attn.in_proj_weight', 'motion.transformer.resblocks.1.attn.in_proj_bias', 'motion.transformer.resblocks.1.attn.out_proj.weight', 'motion.transformer.resblocks.1.attn.out_proj.bias', 'motion.transformer.resblocks.1.ln_1.weight', 'motion.transformer.resblocks.1.ln_1.bias', 'motion.transformer.resblocks.1.mlp.c_fc.weight', 'motion.transformer.resblocks.1.mlp.c_fc.bias', 'motion.transformer.resblocks.1.mlp.c_proj.weight', 'motion.transformer.resblocks.1.mlp.c_proj.bias', 'motion.transformer.resblocks.1.ln_2.weight', 'motion.transformer.resblocks.1.ln_2.bias', 'motion.transformer.resblocks.2.attn.in_proj_weight', 'motion.transformer.resblocks.2.attn.in_proj_bias', 'motion.transformer.resblocks.2.attn.out_proj.weight', 'motion.transformer.resblocks.2.attn.out_proj.bias', 'motion.transformer.resblocks.2.ln_1.weight', 'motion.transformer.resblocks.2.ln_1.bias', 'motion.transformer.resblocks.2.mlp.c_fc.weight', 'motion.transformer.resblocks.2.mlp.c_fc.bias', 'motion.transformer.resblocks.2.mlp.c_proj.weight', 'motion.transformer.resblocks.2.mlp.c_proj.bias', 'motion.transformer.resblocks.2.ln_2.weight', 'motion.transformer.resblocks.2.ln_2.bias', 'motion.transformer.resblocks.3.attn.in_proj_weight', 'motion.transformer.resblocks.3.attn.in_proj_bias', 'motion.transformer.resblocks.3.attn.out_proj.weight', 'motion.transformer.resblocks.3.attn.out_proj.bias', 'motion.transformer.resblocks.3.ln_1.weight', 'motion.transformer.resblocks.3.ln_1.bias', 'motion.transformer.resblocks.3.mlp.c_fc.weight', 'motion.transformer.resblocks.3.mlp.c_fc.bias', 'motion.transformer.resblocks.3.mlp.c_proj.weight', 'motion.transformer.resblocks.3.mlp.c_proj.bias', 'motion.transformer.resblocks.3.ln_2.weight', 'motion.transformer.resblocks.3.ln_2.bias', 'motion.transformer.resblocks.4.attn.in_proj_weight', 'motion.transformer.resblocks.4.attn.in_proj_bias', 'motion.transformer.resblocks.4.attn.out_proj.weight', 'motion.transformer.resblocks.4.attn.out_proj.bias', 'motion.transformer.resblocks.4.ln_1.weight', 'motion.transformer.resblocks.4.ln_1.bias', 'motion.transformer.resblocks.4.mlp.c_fc.weight', 'motion.transformer.resblocks.4.mlp.c_fc.bias', 'motion.transformer.resblocks.4.mlp.c_proj.weight', 'motion.transformer.resblocks.4.mlp.c_proj.bias', 'motion.transformer.resblocks.4.ln_2.weight', 'motion.transformer.resblocks.4.ln_2.bias', 'motion.transformer.resblocks.5.attn.in_proj_weight', 'motion.transformer.resblocks.5.attn.in_proj_bias', 'motion.transformer.resblocks.5.attn.out_proj.weight', 'motion.transformer.resblocks.5.attn.out_proj.bias', 'motion.transformer.resblocks.5.ln_1.weight', 'motion.transformer.resblocks.5.ln_1.bias', 'motion.transformer.resblocks.5.mlp.c_fc.weight', 'motion.transformer.resblocks.5.mlp.c_fc.bias', 'motion.transformer.resblocks.5.mlp.c_proj.weight', 'motion.transformer.resblocks.5.mlp.c_proj.bias', 'motion.transformer.resblocks.5.ln_2.weight', 'motion.transformer.resblocks.5.ln_2.bias', 'motion.transformer.resblocks.6.attn.in_proj_weight', 'motion.transformer.resblocks.6.attn.in_proj_bias', 'motion.transformer.resblocks.6.attn.out_proj.weight', 'motion.transformer.resblocks.6.attn.out_proj.bias', 'motion.transformer.resblocks.6.ln_1.weight', 'motion.transformer.resblocks.6.ln_1.bias', 'motion.transformer.resblocks.6.mlp.c_fc.weight', 'motion.transformer.resblocks.6.mlp.c_fc.bias', 'motion.transformer.resblocks.6.mlp.c_proj.weight', 'motion.transformer.resblocks.6.mlp.c_proj.bias', 'motion.transformer.resblocks.6.ln_2.weight', 'motion.transformer.resblocks.6.ln_2.bias', 'motion.transformer.resblocks.7.attn.in_proj_weight', 'motion.transformer.resblocks.7.attn.in_proj_bias', 'motion.transformer.resblocks.7.attn.out_proj.weight', 'motion.transformer.resblocks.7.attn.out_proj.bias', 'motion.transformer.resblocks.7.ln_1.weight', 'motion.transformer.resblocks.7.ln_1.bias', 'motion.transformer.resblocks.7.mlp.c_fc.weight', 'motion.transformer.resblocks.7.mlp.c_fc.bias', 'motion.transformer.resblocks.7.mlp.c_proj.weight', 'motion.transformer.resblocks.7.mlp.c_proj.bias', 'motion.transformer.resblocks.7.ln_2.weight', 'motion.transformer.resblocks.7.ln_2.bias', 'motion.transformer.resblocks.8.attn.in_proj_weight', 'motion.transformer.resblocks.8.attn.in_proj_bias', 'motion.transformer.resblocks.8.attn.out_proj.weight', 'motion.transformer.resblocks.8.attn.out_proj.bias', 'motion.transformer.resblocks.8.ln_1.weight', 'motion.transformer.resblocks.8.ln_1.bias', 'motion.transformer.resblocks.8.mlp.c_fc.weight', 'motion.transformer.resblocks.8.mlp.c_fc.bias', 'motion.transformer.resblocks.8.mlp.c_proj.weight', 'motion.transformer.resblocks.8.mlp.c_proj.bias', 'motion.transformer.resblocks.8.ln_2.weight', 'motion.transformer.resblocks.8.ln_2.bias', 'motion.transformer.resblocks.9.attn.in_proj_weight', 'motion.transformer.resblocks.9.attn.in_proj_bias', 'motion.transformer.resblocks.9.attn.out_proj.weight', 'motion.transformer.resblocks.9.attn.out_proj.bias', 'motion.transformer.resblocks.9.ln_1.weight', 'motion.transformer.resblocks.9.ln_1.bias', 'motion.transformer.resblocks.9.mlp.c_fc.weight', 'motion.transformer.resblocks.9.mlp.c_fc.bias', 'motion.transformer.resblocks.9.mlp.c_proj.weight', 'motion.transformer.resblocks.9.mlp.c_proj.bias', 'motion.transformer.resblocks.9.ln_2.weight', 'motion.transformer.resblocks.9.ln_2.bias', 'motion.transformer.resblocks.10.attn.in_proj_weight', 'motion.transformer.resblocks.10.attn.in_proj_bias', 'motion.transformer.resblocks.10.attn.out_proj.weight', 'motion.transformer.resblocks.10.attn.out_proj.bias', 'motion.transformer.resblocks.10.ln_1.weight', 'motion.transformer.resblocks.10.ln_1.bias', 'motion.transformer.resblocks.10.mlp.c_fc.weight', 'motion.transformer.resblocks.10.mlp.c_fc.bias', 'motion.transformer.resblocks.10.mlp.c_proj.weight', 'motion.transformer.resblocks.10.mlp.c_proj.bias', 'motion.transformer.resblocks.10.ln_2.weight', 'motion.transformer.resblocks.10.ln_2.bias', 'motion.transformer.resblocks.11.attn.in_proj_weight', 'motion.transformer.resblocks.11.attn.in_proj_bias', 'motion.transformer.resblocks.11.attn.out_proj.weight', 'motion.transformer.resblocks.11.attn.out_proj.bias', 'motion.transformer.resblocks.11.ln_1.weight', 'motion.transformer.resblocks.11.ln_1.bias', 'motion.transformer.resblocks.11.mlp.c_fc.weight', 'motion.transformer.resblocks.11.mlp.c_fc.bias', 'motion.transformer.resblocks.11.mlp.c_proj.weight', 'motion.transformer.resblocks.11.mlp.c_proj.bias', 'motion.transformer.resblocks.11.ln_2.weight', 'motion.transformer.resblocks.11.ln_2.bias', 'motion.ln_post.weight', 'motion.ln_post.bias'])\n"
     ]
    }
   ],
   "source": [
    "print(state_dict.keys())"
   ]
  },
  {
   "cell_type": "code",
   "execution_count": 7,
   "metadata": {},
   "outputs": [
    {
     "name": "stdout",
     "output_type": "stream",
     "text": [
      "img transformer layers: 12\n",
      "loading clip pretrained model!\n",
      "The following sub-module is not loaded\n",
      "_IncompatibleKeys(missing_keys=['motion.conv1.weight', 'motion.transformer.resblocks.0.ln_1_y.weight', 'motion.transformer.resblocks.0.ln_1_y.bias', 'motion.transformer.resblocks.1.ln_1_y.weight', 'motion.transformer.resblocks.1.ln_1_y.bias', 'motion.transformer.resblocks.2.ln_1_y.weight', 'motion.transformer.resblocks.2.ln_1_y.bias', 'motion.transformer.resblocks.3.ln_1_y.weight', 'motion.transformer.resblocks.3.ln_1_y.bias', 'temporal.cross_resblock.attn.in_proj_weight', 'temporal.cross_resblock.attn.in_proj_bias', 'temporal.cross_resblock.attn.out_proj.weight', 'temporal.cross_resblock.attn.out_proj.bias', 'temporal.cross_resblock.ln_1.weight', 'temporal.cross_resblock.ln_1.bias', 'temporal.cross_resblock.mlp.c_fc.weight', 'temporal.cross_resblock.mlp.c_fc.bias', 'temporal.cross_resblock.mlp.c_proj.weight', 'temporal.cross_resblock.mlp.c_proj.bias', 'temporal.cross_resblock.ln_2.weight', 'temporal.cross_resblock.ln_2.bias', 'temporal.cross_resblock.ln_1_y.weight', 'temporal.cross_resblock.ln_1_y.bias', 'temporal.resblocks.0.attn.in_proj_weight', 'temporal.resblocks.0.attn.in_proj_bias', 'temporal.resblocks.0.attn.out_proj.weight', 'temporal.resblocks.0.attn.out_proj.bias', 'temporal.resblocks.0.ln_1.weight', 'temporal.resblocks.0.ln_1.bias', 'temporal.resblocks.0.mlp.c_fc.weight', 'temporal.resblocks.0.mlp.c_fc.bias', 'temporal.resblocks.0.mlp.c_proj.weight', 'temporal.resblocks.0.mlp.c_proj.bias', 'temporal.resblocks.0.ln_2.weight', 'temporal.resblocks.0.ln_2.bias', 'temporal.resblocks.1.attn.in_proj_weight', 'temporal.resblocks.1.attn.in_proj_bias', 'temporal.resblocks.1.attn.out_proj.weight', 'temporal.resblocks.1.attn.out_proj.bias', 'temporal.resblocks.1.ln_1.weight', 'temporal.resblocks.1.ln_1.bias', 'temporal.resblocks.1.mlp.c_fc.weight', 'temporal.resblocks.1.mlp.c_fc.bias', 'temporal.resblocks.1.mlp.c_proj.weight', 'temporal.resblocks.1.mlp.c_proj.bias', 'temporal.resblocks.1.ln_2.weight', 'temporal.resblocks.1.ln_2.bias', 'temporal.resblocks.2.attn.in_proj_weight', 'temporal.resblocks.2.attn.in_proj_bias', 'temporal.resblocks.2.attn.out_proj.weight', 'temporal.resblocks.2.attn.out_proj.bias', 'temporal.resblocks.2.ln_1.weight', 'temporal.resblocks.2.ln_1.bias', 'temporal.resblocks.2.mlp.c_fc.weight', 'temporal.resblocks.2.mlp.c_fc.bias', 'temporal.resblocks.2.mlp.c_proj.weight', 'temporal.resblocks.2.mlp.c_proj.bias', 'temporal.resblocks.2.ln_2.weight', 'temporal.resblocks.2.ln_2.bias', 'temporal.resblocks.3.attn.in_proj_weight', 'temporal.resblocks.3.attn.in_proj_bias', 'temporal.resblocks.3.attn.out_proj.weight', 'temporal.resblocks.3.attn.out_proj.bias', 'temporal.resblocks.3.ln_1.weight', 'temporal.resblocks.3.ln_1.bias', 'temporal.resblocks.3.mlp.c_fc.weight', 'temporal.resblocks.3.mlp.c_fc.bias', 'temporal.resblocks.3.mlp.c_proj.weight', 'temporal.resblocks.3.mlp.c_proj.bias', 'temporal.resblocks.3.ln_2.weight', 'temporal.resblocks.3.ln_2.bias', 'temporal.resblocks.4.attn.in_proj_weight', 'temporal.resblocks.4.attn.in_proj_bias', 'temporal.resblocks.4.attn.out_proj.weight', 'temporal.resblocks.4.attn.out_proj.bias', 'temporal.resblocks.4.ln_1.weight', 'temporal.resblocks.4.ln_1.bias', 'temporal.resblocks.4.mlp.c_fc.weight', 'temporal.resblocks.4.mlp.c_fc.bias', 'temporal.resblocks.4.mlp.c_proj.weight', 'temporal.resblocks.4.mlp.c_proj.bias', 'temporal.resblocks.4.ln_2.weight', 'temporal.resblocks.4.ln_2.bias', 'temporal.resblocks.5.attn.in_proj_weight', 'temporal.resblocks.5.attn.in_proj_bias', 'temporal.resblocks.5.attn.out_proj.weight', 'temporal.resblocks.5.attn.out_proj.bias', 'temporal.resblocks.5.ln_1.weight', 'temporal.resblocks.5.ln_1.bias', 'temporal.resblocks.5.mlp.c_fc.weight', 'temporal.resblocks.5.mlp.c_fc.bias', 'temporal.resblocks.5.mlp.c_proj.weight', 'temporal.resblocks.5.mlp.c_proj.bias', 'temporal.resblocks.5.ln_2.weight', 'temporal.resblocks.5.ln_2.bias', 'frame_position_embeddings.weight'], unexpected_keys=['motion.transformer.resblocks.4.attn.in_proj_weight', 'motion.transformer.resblocks.4.attn.in_proj_bias', 'motion.transformer.resblocks.4.attn.out_proj.weight', 'motion.transformer.resblocks.4.attn.out_proj.bias', 'motion.transformer.resblocks.4.ln_1.weight', 'motion.transformer.resblocks.4.ln_1.bias', 'motion.transformer.resblocks.4.mlp.c_fc.weight', 'motion.transformer.resblocks.4.mlp.c_fc.bias', 'motion.transformer.resblocks.4.mlp.c_proj.weight', 'motion.transformer.resblocks.4.mlp.c_proj.bias', 'motion.transformer.resblocks.4.ln_2.weight', 'motion.transformer.resblocks.4.ln_2.bias', 'motion.transformer.resblocks.5.attn.in_proj_weight', 'motion.transformer.resblocks.5.attn.in_proj_bias', 'motion.transformer.resblocks.5.attn.out_proj.weight', 'motion.transformer.resblocks.5.attn.out_proj.bias', 'motion.transformer.resblocks.5.ln_1.weight', 'motion.transformer.resblocks.5.ln_1.bias', 'motion.transformer.resblocks.5.mlp.c_fc.weight', 'motion.transformer.resblocks.5.mlp.c_fc.bias', 'motion.transformer.resblocks.5.mlp.c_proj.weight', 'motion.transformer.resblocks.5.mlp.c_proj.bias', 'motion.transformer.resblocks.5.ln_2.weight', 'motion.transformer.resblocks.5.ln_2.bias', 'motion.transformer.resblocks.6.attn.in_proj_weight', 'motion.transformer.resblocks.6.attn.in_proj_bias', 'motion.transformer.resblocks.6.attn.out_proj.weight', 'motion.transformer.resblocks.6.attn.out_proj.bias', 'motion.transformer.resblocks.6.ln_1.weight', 'motion.transformer.resblocks.6.ln_1.bias', 'motion.transformer.resblocks.6.mlp.c_fc.weight', 'motion.transformer.resblocks.6.mlp.c_fc.bias', 'motion.transformer.resblocks.6.mlp.c_proj.weight', 'motion.transformer.resblocks.6.mlp.c_proj.bias', 'motion.transformer.resblocks.6.ln_2.weight', 'motion.transformer.resblocks.6.ln_2.bias', 'motion.transformer.resblocks.7.attn.in_proj_weight', 'motion.transformer.resblocks.7.attn.in_proj_bias', 'motion.transformer.resblocks.7.attn.out_proj.weight', 'motion.transformer.resblocks.7.attn.out_proj.bias', 'motion.transformer.resblocks.7.ln_1.weight', 'motion.transformer.resblocks.7.ln_1.bias', 'motion.transformer.resblocks.7.mlp.c_fc.weight', 'motion.transformer.resblocks.7.mlp.c_fc.bias', 'motion.transformer.resblocks.7.mlp.c_proj.weight', 'motion.transformer.resblocks.7.mlp.c_proj.bias', 'motion.transformer.resblocks.7.ln_2.weight', 'motion.transformer.resblocks.7.ln_2.bias', 'motion.transformer.resblocks.8.attn.in_proj_weight', 'motion.transformer.resblocks.8.attn.in_proj_bias', 'motion.transformer.resblocks.8.attn.out_proj.weight', 'motion.transformer.resblocks.8.attn.out_proj.bias', 'motion.transformer.resblocks.8.ln_1.weight', 'motion.transformer.resblocks.8.ln_1.bias', 'motion.transformer.resblocks.8.mlp.c_fc.weight', 'motion.transformer.resblocks.8.mlp.c_fc.bias', 'motion.transformer.resblocks.8.mlp.c_proj.weight', 'motion.transformer.resblocks.8.mlp.c_proj.bias', 'motion.transformer.resblocks.8.ln_2.weight', 'motion.transformer.resblocks.8.ln_2.bias', 'motion.transformer.resblocks.9.attn.in_proj_weight', 'motion.transformer.resblocks.9.attn.in_proj_bias', 'motion.transformer.resblocks.9.attn.out_proj.weight', 'motion.transformer.resblocks.9.attn.out_proj.bias', 'motion.transformer.resblocks.9.ln_1.weight', 'motion.transformer.resblocks.9.ln_1.bias', 'motion.transformer.resblocks.9.mlp.c_fc.weight', 'motion.transformer.resblocks.9.mlp.c_fc.bias', 'motion.transformer.resblocks.9.mlp.c_proj.weight', 'motion.transformer.resblocks.9.mlp.c_proj.bias', 'motion.transformer.resblocks.9.ln_2.weight', 'motion.transformer.resblocks.9.ln_2.bias', 'motion.transformer.resblocks.10.attn.in_proj_weight', 'motion.transformer.resblocks.10.attn.in_proj_bias', 'motion.transformer.resblocks.10.attn.out_proj.weight', 'motion.transformer.resblocks.10.attn.out_proj.bias', 'motion.transformer.resblocks.10.ln_1.weight', 'motion.transformer.resblocks.10.ln_1.bias', 'motion.transformer.resblocks.10.mlp.c_fc.weight', 'motion.transformer.resblocks.10.mlp.c_fc.bias', 'motion.transformer.resblocks.10.mlp.c_proj.weight', 'motion.transformer.resblocks.10.mlp.c_proj.bias', 'motion.transformer.resblocks.10.ln_2.weight', 'motion.transformer.resblocks.10.ln_2.bias', 'motion.transformer.resblocks.11.attn.in_proj_weight', 'motion.transformer.resblocks.11.attn.in_proj_bias', 'motion.transformer.resblocks.11.attn.out_proj.weight', 'motion.transformer.resblocks.11.attn.out_proj.bias', 'motion.transformer.resblocks.11.ln_1.weight', 'motion.transformer.resblocks.11.ln_1.bias', 'motion.transformer.resblocks.11.mlp.c_fc.weight', 'motion.transformer.resblocks.11.mlp.c_fc.bias', 'motion.transformer.resblocks.11.mlp.c_proj.weight', 'motion.transformer.resblocks.11.mlp.c_proj.bias', 'motion.transformer.resblocks.11.ln_2.weight', 'motion.transformer.resblocks.11.ln_2.bias'])\n"
     ]
    }
   ],
   "source": [
    "clip = build_model(state_dict,pretrain=True, motion_layers=4)"
   ]
  },
  {
   "cell_type": "code",
   "execution_count": null,
   "metadata": {},
   "outputs": [],
   "source": [
    "_state_dict = clip.state_dict()"
   ]
  },
  {
   "cell_type": "code",
   "execution_count": null,
   "metadata": {},
   "outputs": [],
   "source": [
    "clip.load_state_dict(new_fusion_state_dict, strict=False)"
   ]
  },
  {
   "cell_type": "code",
   "execution_count": null,
   "metadata": {},
   "outputs": [],
   "source": [
    "torch.save({'model_state_dict': clip.state_dict(), 'optimizer_state_dict':optim_dict},'/mnt/e/vit-b-16-8f_modified.pt')"
   ]
  },
  {
   "cell_type": "code",
   "execution_count": null,
   "metadata": {},
   "outputs": [],
   "source": [
    "a = torch.rand(6,8,3,224,224).half().cuda()\n",
    "b = torch.randint(10,(10,77)).cuda()\n",
    "out = clip.encode_image(a)"
   ]
  },
  {
   "cell_type": "code",
   "execution_count": null,
   "metadata": {},
   "outputs": [],
   "source": [
    "print(out.shape)"
   ]
  },
  {
   "cell_type": "code",
   "execution_count": null,
   "metadata": {},
   "outputs": [],
   "source": [
    "out[0].sum().backward()"
   ]
  },
  {
   "cell_type": "code",
   "execution_count": null,
   "metadata": {},
   "outputs": [],
   "source": [
    "a = torch.zeros(12,12)\n",
    "b = torch.tensor([[7, 1, 9, 0, 0, 0, 3, 0, 9, 7, 2, 7]],dtype=torch.long)\n",
    "u,b = torch.unique(b,return_inverse=True,sorted=False)\n",
    "#u,b = torch.unique(b,return_inverse=True,sorted=False)\n",
    "print(b)\n",
    "c = torch.ones(1,12)\n",
    "a = a.scatter(0,index=b,src=c)\n",
    "print(a)"
   ]
  },
  {
   "cell_type": "code",
   "execution_count": null,
   "metadata": {},
   "outputs": [],
   "source": [
    "torch.eq(b,b.T).to(torch.float16)"
   ]
  },
  {
   "cell_type": "code",
   "execution_count": null,
   "metadata": {},
   "outputs": [],
   "source": [
    "# tensor([7, 1, 9, 0, 0, 0, 3, 0, 9, 7, 2, 7])\n",
    "# tensor([[1., 0., 0., 0., 0., 0., 0., 0., 0., 1., 0., 1.],\n",
    "#         [0., 1., 0., 0., 0., 0., 0., 0., 0., 0., 0., 0.],\n",
    "#         [0., 0., 1., 0., 0., 0., 0., 0., 1., 0., 0., 0.],\n",
    "#         [0., 0., 0., 1., 1., 1., 0., 1., 0., 0., 0., 0.],\n",
    "#         [0., 0., 0., 1., 1., 1., 0., 1., 0., 0., 0., 0.],\n",
    "#         [0., 0., 0., 1., 1., 1., 0., 1., 0., 0., 0., 0.],\n",
    "#         [0., 0., 0., 0., 0., 0., 1., 0., 0., 0., 0., 0.],\n",
    "#         [0., 0., 0., 1., 1., 1., 0., 1., 0., 0., 0., 0.],\n",
    "#         [0., 0., 1., 0., 0., 0., 0., 0., 1., 0., 0., 0.],\n",
    "#         [1., 0., 0., 0., 0., 0., 0., 0., 0., 1., 0., 1.],\n",
    "#         [0., 0., 0., 0., 0., 0., 0., 0., 0., 0., 1., 0.],\n",
    "#         [1., 0., 0., 0., 0., 0., 0., 0., 0., 1., 0., 1.]], device='cuda:0',\n",
    "#        dtype=torch.float16)"
   ]
  },
  {
   "cell_type": "code",
   "execution_count": null,
   "metadata": {},
   "outputs": [],
   "source": [
    "a = torch.rand(6,8,3,224,224).half().cuda()\n",
    "out = clip.encode_image(a)\n",
    "print(out.shape)"
   ]
  },
  {
   "cell_type": "code",
   "execution_count": null,
   "metadata": {},
   "outputs": [],
   "source": [
    "b = torch.randint(10,(160,77)).cuda()\n",
    "out = clip.encode_text(b)\n",
    "print(out.dtype)"
   ]
  },
  {
   "cell_type": "code",
   "execution_count": null,
   "metadata": {},
   "outputs": [],
   "source": [
    "print(sys.getsizeof(out.storage()))"
   ]
  },
  {
   "cell_type": "code",
   "execution_count": null,
   "metadata": {},
   "outputs": [],
   "source": [
    "a = torch.tensor([[0,6,3,2,5],[7,4,5,3,0],[0,1,2,4,5]])\n",
    "print(a.shape)\n",
    "b = torch.tensor([0,8,2]).unsqueeze(-1)\n",
    "print(b.shape)\n",
    "torch.any(torch.eq(a,b),dim=-1)"
   ]
  },
  {
   "cell_type": "code",
   "execution_count": null,
   "metadata": {},
   "outputs": [],
   "source": [
    "a = torch.tensor([0,1,2])\n",
    "b = torch.tensor([0,8,2])\n",
    "torch.eq(a,b)"
   ]
  }
 ],
 "metadata": {
  "kernelspec": {
   "display_name": "Python 3.9.12 ('pytorch')",
   "language": "python",
   "name": "python3"
  },
  "language_info": {
   "codemirror_mode": {
    "name": "ipython",
    "version": 3
   },
   "file_extension": ".py",
   "mimetype": "text/x-python",
   "name": "python",
   "nbconvert_exporter": "python",
   "pygments_lexer": "ipython3",
   "version": "3.9.12"
  },
  "orig_nbformat": 4,
  "vscode": {
   "interpreter": {
    "hash": "b00873fea601b69fcf5d3add94a63c6af5238bf69cc8eee1c7de23e514528387"
   }
  }
 },
 "nbformat": 4,
 "nbformat_minor": 2
}
