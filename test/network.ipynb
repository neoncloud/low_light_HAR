{
 "cells": [
  {
   "cell_type": "code",
   "execution_count": 1,
   "metadata": {},
   "outputs": [],
   "source": [
    "import torch\n",
    "from torch.nn import Conv2d, Linear\n",
    "from torchvision.models import resnet50\n",
    "import os,sys\n",
    "parent_dir = os.path.abspath('../')\n",
    "if parent_dir not in sys.path:\n",
    "    sys.path.append(parent_dir)"
   ]
  },
  {
   "cell_type": "code",
   "execution_count": null,
   "metadata": {},
   "outputs": [],
   "source": [
    "resnet = resnet50()"
   ]
  },
  {
   "cell_type": "code",
   "execution_count": null,
   "metadata": {},
   "outputs": [],
   "source": [
    "resnet.conv1 = Conv2d(8, 64, kernel_size=(7, 7), stride=(2, 2), padding=(3, 3), bias=False)\n",
    "resnet.fc = Linear(in_features=2048, out_features=1024, bias=True)\n",
    "print(resnet)"
   ]
  },
  {
   "cell_type": "code",
   "execution_count": null,
   "metadata": {},
   "outputs": [],
   "source": [
    "from util.frame_diff import Sandevistan\n",
    "from util.dark_enhance import DarkEnhance\n",
    "from torchvision.io import read_video\n",
    "frames, _, info  = read_video('./Run_1_1.mp4')\n",
    "print('frames',frames.shape)"
   ]
  },
  {
   "cell_type": "code",
   "execution_count": null,
   "metadata": {},
   "outputs": [],
   "source": [
    "enhancer = DarkEnhance()\n",
    "#frame_diff = Sandevistan(n_frames=10,thres=1.0)\n",
    "frames = enhancer(frames).transpose(3,1).unsqueeze(0)\n",
    "#out = frame_diff(frames.clone())\n",
    "#print(out.shape)"
   ]
  },
  {
   "cell_type": "code",
   "execution_count": 2,
   "metadata": {},
   "outputs": [],
   "source": [
    "#from model.network import SandevistanCLIP, build_model\n",
    "state_dict_new = torch.load('/home/neoncloud/low_light/checkpoints/2022_11_05_04_41_13/model_best.pt')\n",
    "state_dict_old = torch.load('/home/neoncloud/low_light/test/model_best_modified.pt')\n",
    "#model_state_dict = state_dict['model_state_dict']\n",
    "#fusion_state_dict = state_dict['fusion_model_state_dict']\n",
    "#clip = build_model(state_dict,pretrain=True)\n",
    "#print(state_dict_old['model_state_dict'].keys())"
   ]
  },
  {
   "cell_type": "code",
   "execution_count": 3,
   "metadata": {},
   "outputs": [],
   "source": [
    "for k,v in state_dict_new['model_state_dict'].items():\n",
    "    if 'motion' in k:\n",
    "        state_dict_old['model_state_dict'][k] = v"
   ]
  },
  {
   "cell_type": "code",
   "execution_count": 4,
   "metadata": {},
   "outputs": [],
   "source": [
    "torch.save(state_dict_old,'model_best_motion_finetune.pt')"
   ]
  },
  {
   "cell_type": "code",
   "execution_count": null,
   "metadata": {},
   "outputs": [],
   "source": [
    "new_model_state_dict = {}\n",
    "for k,v in state_dict_new['model_state_dict'].items():\n",
    "    if 'motion' in k:\n",
    "        continue\n",
    "    new_model_state_dict[k] = v\n",
    "state_dict_new['model_state_dict'] = new_model_state_dict\n",
    "print(state_dict_new['model_state_dict'].keys())"
   ]
  },
  {
   "cell_type": "code",
   "execution_count": null,
   "metadata": {},
   "outputs": [],
   "source": [
    "print(state_dict_new['model_state_dict'].keys())"
   ]
  },
  {
   "cell_type": "code",
   "execution_count": null,
   "metadata": {},
   "outputs": [],
   "source": [
    "for ko,kn in zip(state_dict_old['model_state_dict'].keys(), state_dict_new['model_state_dict'].keys()):\n",
    "    if 'fusion' in ko:\n",
    "        state_dict_new['model_state_dict'][ko] = state_dict_old['model_state_dict'][ko]"
   ]
  },
  {
   "cell_type": "code",
   "execution_count": null,
   "metadata": {},
   "outputs": [],
   "source": [
    "torch.save(state_dict_new,'model_best_modified.pt')"
   ]
  },
  {
   "cell_type": "code",
   "execution_count": null,
   "metadata": {},
   "outputs": [],
   "source": [
    "import yaml\n",
    "from dotmap import DotMap\n",
    "with open('/home/neoncloud/low_light/config/low_light_train.yaml', 'r') as f:\n",
    "    cfg = yaml.load(f, Loader=yaml.FullLoader)\n",
    "cfg = DotMap(cfg)"
   ]
  },
  {
   "cell_type": "code",
   "execution_count": null,
   "metadata": {},
   "outputs": [],
   "source": [
    "from model.network import build_model\n",
    "model = build_model(\n",
    "            state_dict=model_state_dict,\n",
    "            pretrain=True,\n",
    "            motion_layers=cfg.network.motion.num_layers,\n",
    "            motion_layers_init=cfg.network.motion.init,\n",
    "            train_visual=cfg.visual.train,\n",
    "            T=cfg.data.seg_length,\n",
    "            thres=cfg.network.motion.thres,\n",
    "            alpha=cfg.network.other.alpha,\n",
    "            fusion_type=cfg.network.fusion.type\n",
    "        )"
   ]
  },
  {
   "cell_type": "code",
   "execution_count": null,
   "metadata": {},
   "outputs": [],
   "source": [
    "print(state_dict.keys())"
   ]
  },
  {
   "cell_type": "code",
   "execution_count": null,
   "metadata": {},
   "outputs": [],
   "source": [
    "print(state_dict['fusion_model_state_dict'].keys())"
   ]
  },
  {
   "cell_type": "code",
   "execution_count": null,
   "metadata": {},
   "outputs": [],
   "source": [
    "new_fusion_state_dict={}\n",
    "for k,v in fusion_state_dict.items():\n",
    "    k = k.strip('module.')\n",
    "    if 'transformer' in k:\n",
    "        k = k.replace('transformer','fusion')\n",
    "    if 'frame_position_embeddings' in k:\n",
    "        pass\n",
    "    new_fusion_state_dict[k] = v"
   ]
  },
  {
   "cell_type": "code",
   "execution_count": null,
   "metadata": {},
   "outputs": [],
   "source": [
    "print(new_fusion_state_dict.keys())"
   ]
  },
  {
   "cell_type": "code",
   "execution_count": null,
   "metadata": {},
   "outputs": [],
   "source": [
    "model.fusion.load_state_dict(new_fusion_state_dict,False)"
   ]
  },
  {
   "cell_type": "code",
   "execution_count": null,
   "metadata": {},
   "outputs": [],
   "source": [
    "torch.save({'model_state_dict': model.state_dict()},'/mnt/e/vit-b-16-8f_modified3.pt')"
   ]
  },
  {
   "cell_type": "code",
   "execution_count": null,
   "metadata": {},
   "outputs": [],
   "source": [
    "motion = {}\n",
    "for k,v in state_dict.items():\n",
    "    if 'visual.' in k:\n",
    "        if k == 'visual.conv1.weight':\n",
    "            continue\n",
    "        k_ = k.replace('visual.','motion.')\n",
    "        motion[k_] = v\n",
    "state_dict.update(motion)"
   ]
  },
  {
   "cell_type": "code",
   "execution_count": null,
   "metadata": {},
   "outputs": [],
   "source": [
    "print(state_dict.keys())"
   ]
  },
  {
   "cell_type": "code",
   "execution_count": null,
   "metadata": {},
   "outputs": [],
   "source": [
    "from clip.clip import build_model\n",
    "clip = build_model(model_state_dict).cuda()"
   ]
  },
  {
   "cell_type": "code",
   "execution_count": null,
   "metadata": {},
   "outputs": [],
   "source": [
    "from torch.nn.functional import interpolate\n",
    "print(frames[0,40,...].shape)\n",
    "frames = interpolate(frames[0,40,None,None,...],size=(3,224,224)).squeeze(0)\n",
    "print(frames.shape)\n",
    "import matplotlib.pyplot as plt\n",
    "plt.imshow(frames.squeeze(0).transpose(0,2))"
   ]
  },
  {
   "cell_type": "code",
   "execution_count": null,
   "metadata": {},
   "outputs": [],
   "source": [
    "image_token = clip.encode_image(frames.cuda())"
   ]
  },
  {
   "cell_type": "code",
   "execution_count": null,
   "metadata": {},
   "outputs": [],
   "source": [
    "text_list = ['Drink','Jump','Pick','Pour','Push','Run','Sit','Stand','Turn','Walk']\n",
    "from model.text_prompt import text_prompt\n",
    "num_text_aug, text_tokenized = text_prompt(text_list)\n",
    "print(text_tokenized.shape)"
   ]
  },
  {
   "cell_type": "code",
   "execution_count": null,
   "metadata": {},
   "outputs": [],
   "source": [
    "text_token = clip.encode_text(text_tokenized.reshape(-1,77).cuda()).reshape(16,10,-1)\n",
    "print(text_token.shape)"
   ]
  },
  {
   "cell_type": "code",
   "execution_count": null,
   "metadata": {},
   "outputs": [],
   "source": [
    "image_features = image_token / image_token.norm(dim=1, keepdim=True)\n",
    "text_features = text_token / text_token.norm(dim=1, keepdim=True)\n",
    "\n",
    "# cosine similarity as logits\n",
    "logits_per_text = 100 *  text_features @ image_features.t()"
   ]
  },
  {
   "cell_type": "code",
   "execution_count": null,
   "metadata": {},
   "outputs": [],
   "source": [
    "logits_per_text = logits_per_text.mean(0)\n",
    "print(logits_per_text)"
   ]
  },
  {
   "cell_type": "code",
   "execution_count": null,
   "metadata": {},
   "outputs": [],
   "source": [
    "logits_per_text = logits_per_text.softmax(0)"
   ]
  },
  {
   "cell_type": "code",
   "execution_count": null,
   "metadata": {},
   "outputs": [],
   "source": [
    "_state_dict = clip.state_dict()"
   ]
  },
  {
   "cell_type": "code",
   "execution_count": null,
   "metadata": {},
   "outputs": [],
   "source": [
    "clip.load_state_dict(new_fusion_state_dict, strict=False)"
   ]
  },
  {
   "cell_type": "code",
   "execution_count": null,
   "metadata": {},
   "outputs": [],
   "source": [
    "torch.save({'model_state_dict': clip.state_dict(), 'optimizer_state_dict':optim_dict},'/mnt/e/vit-b-16-8f_modified2.pt')"
   ]
  },
  {
   "cell_type": "code",
   "execution_count": null,
   "metadata": {},
   "outputs": [],
   "source": [
    "a = torch.rand(6,8,3,224,224).half().cuda()\n",
    "b = torch.randint(10,(10,77)).cuda()\n",
    "out = clip.encode_image(a)"
   ]
  },
  {
   "cell_type": "code",
   "execution_count": null,
   "metadata": {},
   "outputs": [],
   "source": [
    "print(out.shape)"
   ]
  },
  {
   "cell_type": "code",
   "execution_count": null,
   "metadata": {},
   "outputs": [],
   "source": [
    "out[0].sum().backward()"
   ]
  },
  {
   "cell_type": "code",
   "execution_count": null,
   "metadata": {},
   "outputs": [],
   "source": [
    "a = torch.zeros(12,12)\n",
    "b = torch.tensor([[7, 1, 9, 0, 0, 0, 3, 0, 9, 7, 2, 7]],dtype=torch.long)\n",
    "u,b = torch.unique(b,return_inverse=True,sorted=False)\n",
    "#u,b = torch.unique(b,return_inverse=True,sorted=False)\n",
    "print(b)\n",
    "c = torch.ones(1,12)\n",
    "a = a.scatter(0,index=b,src=c)\n",
    "print(a)"
   ]
  },
  {
   "cell_type": "code",
   "execution_count": null,
   "metadata": {},
   "outputs": [],
   "source": [
    "(0.95+0.05*torch.randn(b.shape[1]))*(torch.eq(b,b.T).to(torch.float16))"
   ]
  },
  {
   "cell_type": "code",
   "execution_count": null,
   "metadata": {},
   "outputs": [],
   "source": [
    "# tensor([7, 1, 9, 0, 0, 0, 3, 0, 9, 7, 2, 7])\n",
    "# tensor([[1., 0., 0., 0., 0., 0., 0., 0., 0., 1., 0., 1.],\n",
    "#         [0., 1., 0., 0., 0., 0., 0., 0., 0., 0., 0., 0.],\n",
    "#         [0., 0., 1., 0., 0., 0., 0., 0., 1., 0., 0., 0.],\n",
    "#         [0., 0., 0., 1., 1., 1., 0., 1., 0., 0., 0., 0.],\n",
    "#         [0., 0., 0., 1., 1., 1., 0., 1., 0., 0., 0., 0.],\n",
    "#         [0., 0., 0., 1., 1., 1., 0., 1., 0., 0., 0., 0.],\n",
    "#         [0., 0., 0., 0., 0., 0., 1., 0., 0., 0., 0., 0.],\n",
    "#         [0., 0., 0., 1., 1., 1., 0., 1., 0., 0., 0., 0.],\n",
    "#         [0., 0., 1., 0., 0., 0., 0., 0., 1., 0., 0., 0.],\n",
    "#         [1., 0., 0., 0., 0., 0., 0., 0., 0., 1., 0., 1.],\n",
    "#         [0., 0., 0., 0., 0., 0., 0., 0., 0., 0., 1., 0.],\n",
    "#         [1., 0., 0., 0., 0., 0., 0., 0., 0., 1., 0., 1.]], device='cuda:0',\n",
    "#        dtype=torch.float16)"
   ]
  },
  {
   "cell_type": "code",
   "execution_count": null,
   "metadata": {},
   "outputs": [],
   "source": [
    "a = torch.rand(6,8,3,224,224).half().cuda()\n",
    "out = clip.encode_image(a)\n",
    "print(out.shape)"
   ]
  },
  {
   "cell_type": "code",
   "execution_count": null,
   "metadata": {},
   "outputs": [],
   "source": [
    "b = torch.randint(10,(160,77)).cuda()\n",
    "out = clip.encode_text(b)\n",
    "print(out.dtype)"
   ]
  },
  {
   "cell_type": "code",
   "execution_count": null,
   "metadata": {},
   "outputs": [],
   "source": [
    "print(sys.getsizeof(out.storage()))"
   ]
  },
  {
   "cell_type": "code",
   "execution_count": null,
   "metadata": {},
   "outputs": [],
   "source": [
    "a = torch.tensor([[0,6,3,2,5],[7,4,5,3,0],[0,1,2,4,5]])\n",
    "print(a.shape)\n",
    "b = torch.tensor([0,8,2]).unsqueeze(-1)\n",
    "print(b.shape)\n",
    "torch.any(torch.eq(a,b),dim=-1)"
   ]
  },
  {
   "cell_type": "code",
   "execution_count": null,
   "metadata": {},
   "outputs": [],
   "source": [
    "a = torch.tensor([0,1,2])\n",
    "b = torch.tensor([0,8,2])\n",
    "torch.eq(a,b)"
   ]
  }
 ],
 "metadata": {
  "kernelspec": {
   "display_name": "Python 3.9.12 ('pytorch')",
   "language": "python",
   "name": "python3"
  },
  "language_info": {
   "codemirror_mode": {
    "name": "ipython",
    "version": 3
   },
   "file_extension": ".py",
   "mimetype": "text/x-python",
   "name": "python",
   "nbconvert_exporter": "python",
   "pygments_lexer": "ipython3",
   "version": "3.9.12"
  },
  "orig_nbformat": 4,
  "vscode": {
   "interpreter": {
    "hash": "b00873fea601b69fcf5d3add94a63c6af5238bf69cc8eee1c7de23e514528387"
   }
  }
 },
 "nbformat": 4,
 "nbformat_minor": 2
}
